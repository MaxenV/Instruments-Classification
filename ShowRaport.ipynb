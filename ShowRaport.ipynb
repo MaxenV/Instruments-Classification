{
 "cells": [
  {
   "cell_type": "code",
   "execution_count": 1,
   "metadata": {},
   "outputs": [],
   "source": [
    "import json\n",
    "import matplotlib.pyplot as plt\n",
    "import seaborn as sns\n",
    "import pandas as pd\n",
    "import numpy as np"
   ]
  },
  {
   "cell_type": "code",
   "execution_count": 2,
   "metadata": {},
   "outputs": [],
   "source": [
    "def show_data(data):\n",
    "    # Extract data\n",
    "    accuracy_list = data[\"accuracy_list\"]\n",
    "    loss_list = data[\"loss_list\"]\n",
    "    classification_reports = data[\"classification_reports\"]\n",
    "    confusion_matrices = data[\"confusion_matrices\"]\n",
    "\n",
    "    # Display accuracy and loss lists\n",
    "    print(\"Accuracy List:\", accuracy_list)\n",
    "    print(\"Loss List:\", loss_list)\n",
    "    # Display accuracy and loss lists\n",
    "    print(\"Accuracy mean:\", np.array(accuracy_list).mean())\n",
    "    print(\"Loss mean:\", np.array(loss_list).mean())\n",
    "\n",
    "    # Display classification reports\n",
    "    for i, report in enumerate(classification_reports):\n",
    "        print(f\"\\nClassification Report {i+1}:\")\n",
    "        print(pd.DataFrame(report).transpose())\n",
    "\n",
    "    # Visualize confusion matrices\n",
    "    for i, conf_matrix in enumerate(confusion_matrices):\n",
    "        conf_matrix = np.array(conf_matrix)\n",
    "        if conf_matrix.ndim == 1:\n",
    "            conf_matrix = conf_matrix.reshape(-1, 1)\n",
    "        plt.figure(figsize=(10, 8))\n",
    "        sns.heatmap(conf_matrix, annot=True, fmt=\"d\", cmap=\"Blues\")\n",
    "        plt.title(f\"Confusion Matrix {i+1}\")\n",
    "        plt.xlabel(\"Predicted Labels\")\n",
    "        plt.ylabel(\"True Labels\")\n",
    "        plt.show()"
   ]
  },
  {
   "cell_type": "code",
   "execution_count": null,
   "metadata": {
    "scrolled": true
   },
   "outputs": [],
   "source": [
    "with open(\"raport1.json\", \"r\") as file:\n",
    "    data = json.load(file)\n",
    "    show_data(data)"
   ]
  }
 ],
 "metadata": {
  "kernelspec": {
   "display_name": "Python 3 (ipykernel)",
   "language": "python",
   "name": "python3"
  },
  "language_info": {
   "codemirror_mode": {
    "name": "ipython",
    "version": 3
   },
   "file_extension": ".py",
   "mimetype": "text/x-python",
   "name": "python",
   "nbconvert_exporter": "python",
   "pygments_lexer": "ipython3",
   "version": "3.9.19"
  }
 },
 "nbformat": 4,
 "nbformat_minor": 4
}
